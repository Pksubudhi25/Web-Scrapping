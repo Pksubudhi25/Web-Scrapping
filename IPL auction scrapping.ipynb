{
 "cells": [
  {
   "cell_type": "code",
   "execution_count": 33,
   "id": "ebf4384e",
   "metadata": {},
   "outputs": [],
   "source": [
    "import requests\n",
    "from bs4 import BeautifulSoup\n",
    "import pandas as pd"
   ]
  },
  {
   "cell_type": "code",
   "execution_count": 34,
   "id": "45b1613f",
   "metadata": {},
   "outputs": [],
   "source": [
    "url = \"https://www.iplt20.com/auction/2022\""
   ]
  },
  {
   "cell_type": "code",
   "execution_count": 35,
   "id": "a7284e07",
   "metadata": {},
   "outputs": [],
   "source": [
    "r = requests.get(url)\n",
    "# print(r)"
   ]
  },
  {
   "cell_type": "code",
   "execution_count": 36,
   "id": "fe6a7bfd",
   "metadata": {},
   "outputs": [],
   "source": [
    "soup = BeautifulSoup(r.text,\"lxml\")"
   ]
  },
  {
   "cell_type": "code",
   "execution_count": null,
   "id": "feb39157",
   "metadata": {},
   "outputs": [],
   "source": []
  },
  {
   "cell_type": "code",
   "execution_count": 37,
   "id": "89aa9979",
   "metadata": {},
   "outputs": [
    {
     "name": "stdout",
     "output_type": "stream",
     "text": [
      "<table class=\"ih-td-tab auction-tbl\" width=\"100%\">\n",
      "<tr class=\"ih-pt-tbl\" style=\"display:revert\">\n",
      "<th class=\"skip-filter\" style=\"width:25%;text-align: left;\">TEAM</th>\n",
      "<th class=\"skip-filter\" style=\"width:25%;\">FUNDS REMAINING</th>\n",
      "<th class=\"skip-filter\" style=\"width:25%;\">OVERSEAS PLAYERS </th>\n",
      "<th class=\"skip-filter\" style=\"width:25%;\">TOTAL PLAYERS</th>\n",
      "</tr>\n",
      "<tbody id=\"pointsdata\">\n",
      "<tr>\n",
      "<td class=\"ih-t-color\">\n",
      "<div class=\"ih-pt-ic\">\n",
      "<div class=\"ih-pt-img\" style=\"width: 60px\">\n",
      "<img alt=\"\" src=\"https://bcciplayerimages.s3.ap-south-1.amazonaws.com/ipl/franchises/1644311961_CSKroundbig.png\"/>\n",
      "</div>\n",
      "<h2 class=\"ih-pt-cont\">Chennai Super Kings</h2>\n",
      "</div>\n",
      "</td>\n",
      "<td>₹2,95,00,000</td>\n",
      "<td>8</td>\n",
      "<td>25</td>\n",
      "</tr>\n",
      "<tr>\n",
      "<td class=\"ih-t-color\">\n",
      "<div class=\"ih-pt-ic\">\n",
      "<div class=\"ih-pt-img\" style=\"width: 60px\">\n",
      "<img alt=\"\" src=\"https://bcciplayerimages.s3.ap-south-1.amazonaws.com/ipl/franchises/1644312373_DCroundbig.png\"/>\n",
      "</div>\n",
      "<h2 class=\"ih-pt-cont\">Delhi Capitals</h2>\n",
      "</div>\n",
      "</td>\n",
      "<td>₹10,00,000</td>\n",
      "<td>7</td>\n",
      "<td>24</td>\n",
      "</tr>\n",
      "<tr>\n",
      "<td class=\"ih-t-color\">\n",
      "<div class=\"ih-pt-ic\">\n",
      "<div class=\"ih-pt-img\" style=\"width: 60px\">\n",
      "<img alt=\"\" src=\"https://bcciplayerimages.s3.ap-south-1.amazonaws.com/ipl/franchises/1645712208_GTroundbig.png\"/>\n",
      "</div>\n",
      "<h2 class=\"ih-pt-cont\">Gujarat Titans</h2>\n",
      "</div>\n",
      "</td>\n",
      "<td>₹15,00,000</td>\n",
      "<td>8</td>\n",
      "<td>23</td>\n",
      "</tr>\n",
      "<tr>\n",
      "<td class=\"ih-t-color\">\n",
      "<div class=\"ih-pt-ic\">\n",
      "<div class=\"ih-pt-img\" style=\"width: 60px\">\n",
      "<img alt=\"\" src=\"https://bcciplayerimages.s3.ap-south-1.amazonaws.com/ipl/franchises/1644312095_KKRroundbig.png\"/>\n",
      "</div>\n",
      "<h2 class=\"ih-pt-cont\">Kolkata Knight Riders</h2>\n",
      "</div>\n",
      "</td>\n",
      "<td>₹45,00,000</td>\n",
      "<td>8</td>\n",
      "<td>25</td>\n",
      "</tr>\n",
      "<tr>\n",
      "<td class=\"ih-t-color\">\n",
      "<div class=\"ih-pt-ic\">\n",
      "<div class=\"ih-pt-img\" style=\"width: 60px\">\n",
      "<img alt=\"\" src=\"https://bcciplayerimages.s3.ap-south-1.amazonaws.com/ipl/franchises/1644487352_lsgrounding.png\"/>\n",
      "</div>\n",
      "<h2 class=\"ih-pt-cont\">Lucknow Super Giants</h2>\n",
      "</div>\n",
      "</td>\n",
      "<td>₹0</td>\n",
      "<td>7</td>\n",
      "<td>21</td>\n",
      "</tr>\n",
      "<tr>\n",
      "<td class=\"ih-t-color\">\n",
      "<div class=\"ih-pt-ic\">\n",
      "<div class=\"ih-pt-img\" style=\"width: 60px\">\n",
      "<img alt=\"\" src=\"https://bcciplayerimages.s3.ap-south-1.amazonaws.com/ipl/franchises/1644312227_MIroundbig.png\"/>\n",
      "</div>\n",
      "<h2 class=\"ih-pt-cont\">Mumbai Indians</h2>\n",
      "</div>\n",
      "</td>\n",
      "<td>₹10,00,000</td>\n",
      "<td>8</td>\n",
      "<td>25</td>\n",
      "</tr>\n",
      "<tr>\n",
      "<td class=\"ih-t-color\">\n",
      "<div class=\"ih-pt-ic\">\n",
      "<div class=\"ih-pt-img\" style=\"width: 60px\">\n",
      "<img alt=\"\" src=\"https://bcciplayerimages.s3.ap-south-1.amazonaws.com/ipl/franchises/1644312239_PBKSroundbig.png\"/>\n",
      "</div>\n",
      "<h2 class=\"ih-pt-cont\">Punjab Kings</h2>\n",
      "</div>\n",
      "</td>\n",
      "<td>₹3,45,00,000</td>\n",
      "<td>7</td>\n",
      "<td>25</td>\n",
      "</tr>\n",
      "<tr>\n",
      "<td class=\"ih-t-color\">\n",
      "<div class=\"ih-pt-ic\">\n",
      "<div class=\"ih-pt-img\" style=\"width: 60px\">\n",
      "<img alt=\"\" src=\"https://bcciplayerimages.s3.ap-south-1.amazonaws.com/ipl/franchises/1644312268_RRroundbig.png\"/>\n",
      "</div>\n",
      "<h2 class=\"ih-pt-cont\">Rajasthan Royals</h2>\n",
      "</div>\n",
      "</td>\n",
      "<td>₹95,00,000</td>\n",
      "<td>8</td>\n",
      "<td>24</td>\n",
      "</tr>\n",
      "<tr>\n",
      "<td class=\"ih-t-color\">\n",
      "<div class=\"ih-pt-ic\">\n",
      "<div class=\"ih-pt-img\" style=\"width: 60px\">\n",
      "<img alt=\"\" src=\"https://bcciplayerimages.s3.ap-south-1.amazonaws.com/ipl/franchises/1644312253_RCBroundbig.png\"/>\n",
      "</div>\n",
      "<h2 class=\"ih-pt-cont\">Royal Challengers Bangalore</h2>\n",
      "</div>\n",
      "</td>\n",
      "<td>₹1,55,00,000</td>\n",
      "<td>8</td>\n",
      "<td>22</td>\n",
      "</tr>\n",
      "<tr>\n",
      "<td class=\"ih-t-color\">\n",
      "<div class=\"ih-pt-ic\">\n",
      "<div class=\"ih-pt-img\" style=\"width: 60px\">\n",
      "<img alt=\"\" src=\"https://bcciplayerimages.s3.ap-south-1.amazonaws.com/ipl/franchises/1644312281_SRHroundbig.png\"/>\n",
      "</div>\n",
      "<h2 class=\"ih-pt-cont\">Sunrisers Hyderabad</h2>\n",
      "</div>\n",
      "</td>\n",
      "<td>₹10,00,000</td>\n",
      "<td>8</td>\n",
      "<td>23</td>\n",
      "</tr>\n",
      "</tbody>\n",
      "</table>\n"
     ]
    }
   ],
   "source": [
    "table = soup.find(\"table\",class_=\"ih-td-tab auction-tbl\")\n",
    "print(table)"
   ]
  },
  {
   "cell_type": "code",
   "execution_count": 38,
   "id": "c331a572",
   "metadata": {},
   "outputs": [
    {
     "name": "stdout",
     "output_type": "stream",
     "text": [
      "[<th class=\"skip-filter\" style=\"width:25%;text-align: left;\">TEAM</th>, <th class=\"skip-filter\" style=\"width:25%;\">FUNDS REMAINING</th>, <th class=\"skip-filter\" style=\"width:25%;\">OVERSEAS PLAYERS </th>, <th class=\"skip-filter\" style=\"width:25%;\">TOTAL PLAYERS</th>]\n"
     ]
    }
   ],
   "source": [
    "title=table.find_all(\"th\")\n",
    "print(title)"
   ]
  },
  {
   "cell_type": "code",
   "execution_count": 39,
   "id": "ee94bd19",
   "metadata": {},
   "outputs": [
    {
     "name": "stdout",
     "output_type": "stream",
     "text": [
      "['TEAM', 'FUNDS REMAINING', 'OVERSEAS PLAYERS ', 'TOTAL PLAYERS']\n"
     ]
    }
   ],
   "source": [
    "header = []\n",
    "for i in title:\n",
    "    name = i.text\n",
    "    header.append(name)\n",
    "print(header)"
   ]
  },
  {
   "cell_type": "code",
   "execution_count": 40,
   "id": "20f5e98a",
   "metadata": {},
   "outputs": [
    {
     "name": "stdout",
     "output_type": "stream",
     "text": [
      "Empty DataFrame\n",
      "Columns: [TEAM, FUNDS REMAINING, OVERSEAS PLAYERS , TOTAL PLAYERS]\n",
      "Index: []\n"
     ]
    }
   ],
   "source": [
    "df = pd.DataFrame(columns=header)\n",
    "print(df)"
   ]
  },
  {
   "cell_type": "code",
   "execution_count": 41,
   "id": "5472adb1",
   "metadata": {},
   "outputs": [],
   "source": [
    "rows = table.find_all(\"tr\")\n",
    "# print(rows)"
   ]
  },
  {
   "cell_type": "code",
   "execution_count": 42,
   "id": "ebeaefef",
   "metadata": {},
   "outputs": [],
   "source": [
    "for i in rows[1:]:\n",
    "    first_td = i.find_all(\"td\")[0].find(\"div\",class_=\"ih-pt-ic\").text.strip()\n",
    "    data = i.find_all(\"td\")[1:]\n",
    "    row = [tr.text for tr in data]\n",
    "    row.insert(0,first_td)\n",
    "    l = len(df)\n",
    "    df.loc[l] = row"
   ]
  },
  {
   "cell_type": "code",
   "execution_count": 43,
   "id": "a4abc708",
   "metadata": {},
   "outputs": [
    {
     "name": "stdout",
     "output_type": "stream",
     "text": [
      "                          TEAM FUNDS REMAINING OVERSEAS PLAYERS  TOTAL PLAYERS\n",
      "0          Chennai Super Kings    ₹2,95,00,000                 8            25\n",
      "1               Delhi Capitals      ₹10,00,000                 7            24\n",
      "2               Gujarat Titans      ₹15,00,000                 8            23\n",
      "3        Kolkata Knight Riders      ₹45,00,000                 8            25\n",
      "4         Lucknow Super Giants              ₹0                 7            21\n",
      "5               Mumbai Indians      ₹10,00,000                 8            25\n",
      "6                 Punjab Kings    ₹3,45,00,000                 7            25\n",
      "7             Rajasthan Royals      ₹95,00,000                 8            24\n",
      "8  Royal Challengers Bangalore    ₹1,55,00,000                 8            22\n",
      "9          Sunrisers Hyderabad      ₹10,00,000                 8            23\n"
     ]
    }
   ],
   "source": [
    "print(df)"
   ]
  },
  {
   "cell_type": "code",
   "execution_count": null,
   "id": "096c3309",
   "metadata": {},
   "outputs": [],
   "source": [
    "pd.to"
   ]
  }
 ],
 "metadata": {
  "kernelspec": {
   "display_name": "Python 3 (ipykernel)",
   "language": "python",
   "name": "python3"
  },
  "language_info": {
   "codemirror_mode": {
    "name": "ipython",
    "version": 3
   },
   "file_extension": ".py",
   "mimetype": "text/x-python",
   "name": "python",
   "nbconvert_exporter": "python",
   "pygments_lexer": "ipython3",
   "version": "3.9.7"
  }
 },
 "nbformat": 4,
 "nbformat_minor": 5
}
