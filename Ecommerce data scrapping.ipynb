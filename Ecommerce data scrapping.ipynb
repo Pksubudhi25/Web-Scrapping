{
 "cells": [
  {
   "cell_type": "code",
   "execution_count": 6,
   "id": "a2125935",
   "metadata": {},
   "outputs": [],
   "source": [
    "import requests"
   ]
  },
  {
   "cell_type": "code",
   "execution_count": 7,
   "id": "411c592d",
   "metadata": {},
   "outputs": [],
   "source": [
    "from bs4 import BeautifulSoup"
   ]
  },
  {
   "cell_type": "code",
   "execution_count": 2,
   "id": "80df91f4",
   "metadata": {},
   "outputs": [],
   "source": [
    "url = \"https://webscraper.io/test-sites/e-commerce/allinone/computers/tablets\""
   ]
  },
  {
   "cell_type": "code",
   "execution_count": 3,
   "id": "c752d092",
   "metadata": {},
   "outputs": [],
   "source": [
    "r = requests.get(url)"
   ]
  },
  {
   "cell_type": "code",
   "execution_count": 11,
   "id": "9ec80e0d",
   "metadata": {},
   "outputs": [],
   "source": [
    "# print(r)"
   ]
  },
  {
   "cell_type": "code",
   "execution_count": 8,
   "id": "a58974a4",
   "metadata": {},
   "outputs": [],
   "source": [
    "soup = BeautifulSoup(r.text,\"lxml\")"
   ]
  },
  {
   "cell_type": "code",
   "execution_count": 10,
   "id": "cd922615",
   "metadata": {},
   "outputs": [],
   "source": [
    "# soup"
   ]
  },
  {
   "cell_type": "code",
   "execution_count": 12,
   "id": "ee8db643",
   "metadata": {},
   "outputs": [],
   "source": [
    "# name,price,description"
   ]
  },
  {
   "cell_type": "code",
   "execution_count": 15,
   "id": "403739c4",
   "metadata": {},
   "outputs": [],
   "source": [
    "# boxes = soup.find_all(\"div\",class_ = \"col-md-4 col-xl-4 col-lg-4\")\n",
    "# print(boxes)"
   ]
  },
  {
   "cell_type": "code",
   "execution_count": 16,
   "id": "537d94fe",
   "metadata": {},
   "outputs": [],
   "source": [
    "# len(boxes)"
   ]
  },
  {
   "cell_type": "code",
   "execution_count": 17,
   "id": "057b5faa",
   "metadata": {},
   "outputs": [
    {
     "name": "stdout",
     "output_type": "stream",
     "text": [
      "[<a class=\"title\" href=\"/test-sites/e-commerce/allinone/product/10\" title=\"Lenovo IdeaTab\">Lenovo IdeaTab</a>, <a class=\"title\" href=\"/test-sites/e-commerce/allinone/product/15\" title=\"IdeaTab A3500L\">IdeaTab A3500L</a>, <a class=\"title\" href=\"/test-sites/e-commerce/allinone/product/11\" title=\"Acer Iconia\">Acer Iconia</a>, <a class=\"title\" href=\"/test-sites/e-commerce/allinone/product/18\" title=\"Galaxy Tab 3\">Galaxy Tab 3</a>, <a class=\"title\" href=\"/test-sites/e-commerce/allinone/product/27\" title=\"Iconia B1-730HD\">Iconia B1-730H...</a>, <a class=\"title\" href=\"/test-sites/e-commerce/allinone/product/23\" title=\"Memo Pad HD 7\">Memo Pad HD 7</a>, <a class=\"title\" href=\"/test-sites/e-commerce/allinone/product/12\" title=\"Asus MeMO Pad\">Asus MeMO Pad</a>, <a class=\"title\" href=\"/test-sites/e-commerce/allinone/product/13\" title=\"Amazon Kindle\">Amazon Kindle</a>, <a class=\"title\" href=\"/test-sites/e-commerce/allinone/product/22\" title=\"Galaxy Tab 3\">Galaxy Tab 3</a>, <a class=\"title\" href=\"/test-sites/e-commerce/allinone/product/28\" title=\"IdeaTab A8-50\">IdeaTab A8-50</a>, <a class=\"title\" href=\"/test-sites/e-commerce/allinone/product/20\" title=\"MeMO Pad 7\">MeMO Pad 7</a>, <a class=\"title\" href=\"/test-sites/e-commerce/allinone/product/17\" title=\"IdeaTab A3500-H\">IdeaTab A3500-...</a>, <a class=\"title\" href=\"/test-sites/e-commerce/allinone/product/26\" title=\"IdeaTab S5000\">IdeaTab S5000</a>, <a class=\"title\" href=\"/test-sites/e-commerce/allinone/product/21\" title=\"Galaxy Tab 4\">Galaxy Tab 4</a>, <a class=\"title\" href=\"/test-sites/e-commerce/allinone/product/16\" title=\"Galaxy Tab\">Galaxy Tab</a>, <a class=\"title\" href=\"/test-sites/e-commerce/allinone/product/25\" title=\"MeMo PAD FHD 10\">MeMo PAD FHD 1...</a>, <a class=\"title\" href=\"/test-sites/e-commerce/allinone/product/29\" title=\"Galaxy Note\">Galaxy Note</a>, <a class=\"title\" href=\"/test-sites/e-commerce/allinone/product/19\" title=\"Galaxy Note\">Galaxy Note</a>, <a class=\"title\" href=\"/test-sites/e-commerce/allinone/product/14\" title=\"iPad Mini Retina\">iPad Mini Reti...</a>, <a class=\"title\" href=\"/test-sites/e-commerce/allinone/product/24\" title=\"Galaxy Note 10.1\">Galaxy Note 10...</a>, <a class=\"title\" href=\"/test-sites/e-commerce/allinone/product/30\" title=\"Apple iPad Air\">Apple iPad Air</a>]\n"
     ]
    }
   ],
   "source": [
    "names = soup.find_all(\"a\",class_=\"title\")\n",
    "print(names)"
   ]
  },
  {
   "cell_type": "code",
   "execution_count": 18,
   "id": "71f946b2",
   "metadata": {},
   "outputs": [
    {
     "name": "stdout",
     "output_type": "stream",
     "text": [
      "Lenovo IdeaTab\n",
      "IdeaTab A3500L\n",
      "Acer Iconia\n",
      "Galaxy Tab 3\n",
      "Iconia B1-730H...\n",
      "Memo Pad HD 7\n",
      "Asus MeMO Pad\n",
      "Amazon Kindle\n",
      "Galaxy Tab 3\n",
      "IdeaTab A8-50\n",
      "MeMO Pad 7\n",
      "IdeaTab A3500-...\n",
      "IdeaTab S5000\n",
      "Galaxy Tab 4\n",
      "Galaxy Tab\n",
      "MeMo PAD FHD 1...\n",
      "Galaxy Note\n",
      "Galaxy Note\n",
      "iPad Mini Reti...\n",
      "Galaxy Note 10...\n",
      "Apple iPad Air\n"
     ]
    }
   ],
   "source": [
    "for i in names:\n",
    "    print(i.text)"
   ]
  },
  {
   "cell_type": "code",
   "execution_count": 19,
   "id": "f5724a7f",
   "metadata": {},
   "outputs": [
    {
     "name": "stdout",
     "output_type": "stream",
     "text": [
      "$69.99\n",
      "$88.99\n",
      "$96.99\n",
      "$97.99\n",
      "$99.99\n",
      "$101.99\n",
      "$102.99\n",
      "$103.99\n",
      "$107.99\n",
      "$121.99\n",
      "$130.99\n",
      "$148.99\n",
      "$172.99\n",
      "$233.99\n",
      "$251.99\n",
      "$320.99\n",
      "$399.99\n",
      "$489.99\n",
      "$537.99\n",
      "$587.99\n",
      "$603.99\n"
     ]
    }
   ],
   "source": [
    "prices = soup.find_all(\"h4\",class_=\"price float-end card-title pull-right\")\n",
    "for i in prices:\n",
    "    print(i.text)"
   ]
  },
  {
   "cell_type": "code",
   "execution_count": 20,
   "id": "1e30cbdb",
   "metadata": {},
   "outputs": [
    {
     "name": "stdout",
     "output_type": "stream",
     "text": [
      "['Lenovo IdeaTab', 'IdeaTab A3500L', 'Acer Iconia', 'Galaxy Tab 3', 'Iconia B1-730H...', 'Memo Pad HD 7', 'Asus MeMO Pad', 'Amazon Kindle', 'Galaxy Tab 3', 'IdeaTab A8-50', 'MeMO Pad 7', 'IdeaTab A3500-...', 'IdeaTab S5000', 'Galaxy Tab 4', 'Galaxy Tab', 'MeMo PAD FHD 1...', 'Galaxy Note', 'Galaxy Note', 'iPad Mini Reti...', 'Galaxy Note 10...', 'Apple iPad Air']\n"
     ]
    }
   ],
   "source": [
    "names_list = [i.text for i in names]\n",
    "print(names_list)"
   ]
  },
  {
   "cell_type": "code",
   "execution_count": 21,
   "id": "0fbedffa",
   "metadata": {},
   "outputs": [
    {
     "name": "stdout",
     "output_type": "stream",
     "text": [
      "['$69.99', '$88.99', '$96.99', '$97.99', '$99.99', '$101.99', '$102.99', '$103.99', '$107.99', '$121.99', '$130.99', '$148.99', '$172.99', '$233.99', '$251.99', '$320.99', '$399.99', '$489.99', '$537.99', '$587.99', '$603.99']\n"
     ]
    }
   ],
   "source": [
    "prices_list = [i.text for i in prices]\n",
    "print(prices_list)"
   ]
  },
  {
   "cell_type": "markdown",
   "id": "87296855",
   "metadata": {},
   "source": [
    "### Convert to CSV"
   ]
  },
  {
   "cell_type": "code",
   "execution_count": 22,
   "id": "96065f8d",
   "metadata": {},
   "outputs": [],
   "source": [
    "import pandas as pd"
   ]
  },
  {
   "cell_type": "code",
   "execution_count": 23,
   "id": "7148f198",
   "metadata": {},
   "outputs": [],
   "source": [
    "# Combine data into a DataFrame\n",
    "data = {\n",
    "    'Name': names_list,\n",
    "    'Price': prices_list\n",
    "}\n",
    "df = pd.DataFrame(data)\n",
    "\n",
    "# Export DataFrame to a CSV file\n",
    "df.to_csv('products.csv', index=False)"
   ]
  },
  {
   "cell_type": "code",
   "execution_count": null,
   "id": "a27f2524",
   "metadata": {},
   "outputs": [],
   "source": []
  }
 ],
 "metadata": {
  "kernelspec": {
   "display_name": "Python 3 (ipykernel)",
   "language": "python",
   "name": "python3"
  },
  "language_info": {
   "codemirror_mode": {
    "name": "ipython",
    "version": 3
   },
   "file_extension": ".py",
   "mimetype": "text/x-python",
   "name": "python",
   "nbconvert_exporter": "python",
   "pygments_lexer": "ipython3",
   "version": "3.9.7"
  }
 },
 "nbformat": 4,
 "nbformat_minor": 5
}
